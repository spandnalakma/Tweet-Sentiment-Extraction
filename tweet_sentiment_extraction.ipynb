{
  "nbformat": 4,
  "nbformat_minor": 0,
  "metadata": {
    "colab": {
      "name": "tweet sentiment extraction.ipynb",
      "provenance": [],
      "collapsed_sections": []
    },
    "kernelspec": {
      "name": "python3",
      "display_name": "Python 3"
    },
    "accelerator": "GPU"
  },
  "cells": [
    {
      "cell_type": "code",
      "metadata": {
        "id": "C5ME5m_EEWHW",
        "colab_type": "code",
        "colab": {}
      },
      "source": [
        "import pandas as pd\n",
        "import numpy as np"
      ],
      "execution_count": 58,
      "outputs": []
    },
    {
      "cell_type": "code",
      "metadata": {
        "id": "G6L9MqwWFAym",
        "colab_type": "code",
        "colab": {
          "base_uri": "https://localhost:8080/",
          "height": 198
        },
        "outputId": "0395c6e4-07c9-46e2-ac31-521cbcb38ae5"
      },
      "source": [
        "train_df = pd.read_csv('train.csv',usecols=['text','sentiment'])\n",
        "train_df.head()"
      ],
      "execution_count": 59,
      "outputs": [
        {
          "output_type": "execute_result",
          "data": {
            "text/html": [
              "<div>\n",
              "<style scoped>\n",
              "    .dataframe tbody tr th:only-of-type {\n",
              "        vertical-align: middle;\n",
              "    }\n",
              "\n",
              "    .dataframe tbody tr th {\n",
              "        vertical-align: top;\n",
              "    }\n",
              "\n",
              "    .dataframe thead th {\n",
              "        text-align: right;\n",
              "    }\n",
              "</style>\n",
              "<table border=\"1\" class=\"dataframe\">\n",
              "  <thead>\n",
              "    <tr style=\"text-align: right;\">\n",
              "      <th></th>\n",
              "      <th>text</th>\n",
              "      <th>sentiment</th>\n",
              "    </tr>\n",
              "  </thead>\n",
              "  <tbody>\n",
              "    <tr>\n",
              "      <th>0</th>\n",
              "      <td>I`d have responded, if I were going</td>\n",
              "      <td>neutral</td>\n",
              "    </tr>\n",
              "    <tr>\n",
              "      <th>1</th>\n",
              "      <td>Sooo SAD I will miss you here in San Diego!!!</td>\n",
              "      <td>negative</td>\n",
              "    </tr>\n",
              "    <tr>\n",
              "      <th>2</th>\n",
              "      <td>my boss is bullying me...</td>\n",
              "      <td>negative</td>\n",
              "    </tr>\n",
              "    <tr>\n",
              "      <th>3</th>\n",
              "      <td>what interview! leave me alone</td>\n",
              "      <td>negative</td>\n",
              "    </tr>\n",
              "    <tr>\n",
              "      <th>4</th>\n",
              "      <td>Sons of ****, why couldn`t they put them on t...</td>\n",
              "      <td>negative</td>\n",
              "    </tr>\n",
              "  </tbody>\n",
              "</table>\n",
              "</div>"
            ],
            "text/plain": [
              "                                                text sentiment\n",
              "0                I`d have responded, if I were going   neutral\n",
              "1      Sooo SAD I will miss you here in San Diego!!!  negative\n",
              "2                          my boss is bullying me...  negative\n",
              "3                     what interview! leave me alone  negative\n",
              "4   Sons of ****, why couldn`t they put them on t...  negative"
            ]
          },
          "metadata": {
            "tags": []
          },
          "execution_count": 59
        }
      ]
    },
    {
      "cell_type": "code",
      "metadata": {
        "id": "RG-9bH04FI2K",
        "colab_type": "code",
        "colab": {
          "base_uri": "https://localhost:8080/",
          "height": 235
        },
        "outputId": "8c0edcc3-a76c-4dde-90aa-9886ef66daed"
      },
      "source": [
        "test_df = pd.read_csv('test.csv',usecols=['text','sentiment'])\n",
        "test_df.text"
      ],
      "execution_count": 60,
      "outputs": [
        {
          "output_type": "execute_result",
          "data": {
            "text/plain": [
              "0       Last session of the day  http://twitpic.com/67ezh\n",
              "1        Shanghai is also really exciting (precisely -...\n",
              "2       Recession hit Veronique Branquinho, she has to...\n",
              "3                                             happy bday!\n",
              "4                  http://twitpic.com/4w75p - I like it!!\n",
              "                              ...                        \n",
              "3529    its at 3 am, im very tired but i can`t sleep  ...\n",
              "3530    All alone in this old house again.  Thanks for...\n",
              "3531     I know what you mean. My little dog is sinkin...\n",
              "3532    _sutra what is your next youtube video gonna b...\n",
              "3533     http://twitpic.com/4woj2 - omgssh  ang cute n...\n",
              "Name: text, Length: 3534, dtype: object"
            ]
          },
          "metadata": {
            "tags": []
          },
          "execution_count": 60
        }
      ]
    },
    {
      "cell_type": "code",
      "metadata": {
        "id": "nl7lRfjBXw96",
        "colab_type": "code",
        "colab": {
          "base_uri": "https://localhost:8080/",
          "height": 198
        },
        "outputId": "ad0580c5-1d56-48a1-a442-0488c4933420"
      },
      "source": [
        "sentiment = {'neutral':0,'positive':1,'negative':2}\n",
        "train_df['senti_cat'] = train_df.sentiment.apply(lambda x : sentiment[x])\n",
        "train_df.head()"
      ],
      "execution_count": 61,
      "outputs": [
        {
          "output_type": "execute_result",
          "data": {
            "text/html": [
              "<div>\n",
              "<style scoped>\n",
              "    .dataframe tbody tr th:only-of-type {\n",
              "        vertical-align: middle;\n",
              "    }\n",
              "\n",
              "    .dataframe tbody tr th {\n",
              "        vertical-align: top;\n",
              "    }\n",
              "\n",
              "    .dataframe thead th {\n",
              "        text-align: right;\n",
              "    }\n",
              "</style>\n",
              "<table border=\"1\" class=\"dataframe\">\n",
              "  <thead>\n",
              "    <tr style=\"text-align: right;\">\n",
              "      <th></th>\n",
              "      <th>text</th>\n",
              "      <th>sentiment</th>\n",
              "      <th>senti_cat</th>\n",
              "    </tr>\n",
              "  </thead>\n",
              "  <tbody>\n",
              "    <tr>\n",
              "      <th>0</th>\n",
              "      <td>I`d have responded, if I were going</td>\n",
              "      <td>neutral</td>\n",
              "      <td>0</td>\n",
              "    </tr>\n",
              "    <tr>\n",
              "      <th>1</th>\n",
              "      <td>Sooo SAD I will miss you here in San Diego!!!</td>\n",
              "      <td>negative</td>\n",
              "      <td>2</td>\n",
              "    </tr>\n",
              "    <tr>\n",
              "      <th>2</th>\n",
              "      <td>my boss is bullying me...</td>\n",
              "      <td>negative</td>\n",
              "      <td>2</td>\n",
              "    </tr>\n",
              "    <tr>\n",
              "      <th>3</th>\n",
              "      <td>what interview! leave me alone</td>\n",
              "      <td>negative</td>\n",
              "      <td>2</td>\n",
              "    </tr>\n",
              "    <tr>\n",
              "      <th>4</th>\n",
              "      <td>Sons of ****, why couldn`t they put them on t...</td>\n",
              "      <td>negative</td>\n",
              "      <td>2</td>\n",
              "    </tr>\n",
              "  </tbody>\n",
              "</table>\n",
              "</div>"
            ],
            "text/plain": [
              "                                                text sentiment  senti_cat\n",
              "0                I`d have responded, if I were going   neutral          0\n",
              "1      Sooo SAD I will miss you here in San Diego!!!  negative          2\n",
              "2                          my boss is bullying me...  negative          2\n",
              "3                     what interview! leave me alone  negative          2\n",
              "4   Sons of ****, why couldn`t they put them on t...  negative          2"
            ]
          },
          "metadata": {
            "tags": []
          },
          "execution_count": 61
        }
      ]
    },
    {
      "cell_type": "code",
      "metadata": {
        "id": "KBkLXCZFYPvF",
        "colab_type": "code",
        "colab": {
          "base_uri": "https://localhost:8080/",
          "height": 198
        },
        "outputId": "a319a889-0579-4e50-87c8-1f382b18134b"
      },
      "source": [
        "test_df['senti_cat'] = test_df.sentiment.apply(lambda x : sentiment[x])\n",
        "test_df.head()"
      ],
      "execution_count": 62,
      "outputs": [
        {
          "output_type": "execute_result",
          "data": {
            "text/html": [
              "<div>\n",
              "<style scoped>\n",
              "    .dataframe tbody tr th:only-of-type {\n",
              "        vertical-align: middle;\n",
              "    }\n",
              "\n",
              "    .dataframe tbody tr th {\n",
              "        vertical-align: top;\n",
              "    }\n",
              "\n",
              "    .dataframe thead th {\n",
              "        text-align: right;\n",
              "    }\n",
              "</style>\n",
              "<table border=\"1\" class=\"dataframe\">\n",
              "  <thead>\n",
              "    <tr style=\"text-align: right;\">\n",
              "      <th></th>\n",
              "      <th>text</th>\n",
              "      <th>sentiment</th>\n",
              "      <th>senti_cat</th>\n",
              "    </tr>\n",
              "  </thead>\n",
              "  <tbody>\n",
              "    <tr>\n",
              "      <th>0</th>\n",
              "      <td>Last session of the day  http://twitpic.com/67ezh</td>\n",
              "      <td>neutral</td>\n",
              "      <td>0</td>\n",
              "    </tr>\n",
              "    <tr>\n",
              "      <th>1</th>\n",
              "      <td>Shanghai is also really exciting (precisely -...</td>\n",
              "      <td>positive</td>\n",
              "      <td>1</td>\n",
              "    </tr>\n",
              "    <tr>\n",
              "      <th>2</th>\n",
              "      <td>Recession hit Veronique Branquinho, she has to...</td>\n",
              "      <td>negative</td>\n",
              "      <td>2</td>\n",
              "    </tr>\n",
              "    <tr>\n",
              "      <th>3</th>\n",
              "      <td>happy bday!</td>\n",
              "      <td>positive</td>\n",
              "      <td>1</td>\n",
              "    </tr>\n",
              "    <tr>\n",
              "      <th>4</th>\n",
              "      <td>http://twitpic.com/4w75p - I like it!!</td>\n",
              "      <td>positive</td>\n",
              "      <td>1</td>\n",
              "    </tr>\n",
              "  </tbody>\n",
              "</table>\n",
              "</div>"
            ],
            "text/plain": [
              "                                                text sentiment  senti_cat\n",
              "0  Last session of the day  http://twitpic.com/67ezh   neutral          0\n",
              "1   Shanghai is also really exciting (precisely -...  positive          1\n",
              "2  Recession hit Veronique Branquinho, she has to...  negative          2\n",
              "3                                        happy bday!  positive          1\n",
              "4             http://twitpic.com/4w75p - I like it!!  positive          1"
            ]
          },
          "metadata": {
            "tags": []
          },
          "execution_count": 62
        }
      ]
    },
    {
      "cell_type": "code",
      "metadata": {
        "id": "2JFMDmT0Fb_d",
        "colab_type": "code",
        "colab": {
          "base_uri": "https://localhost:8080/",
          "height": 54
        },
        "outputId": "bdc44006-ca44-4e84-8659-1d0e8a939a01"
      },
      "source": [
        "import re\n",
        "import nltk\n",
        "from nltk.corpus import stopwords\n",
        "nltk.download('stopwords')\n",
        "stop_words = set(stopwords.words('english'))\n",
        "import string\n",
        "from nltk.stem import PorterStemmer\n",
        "ps = PorterStemmer()"
      ],
      "execution_count": 63,
      "outputs": [
        {
          "output_type": "stream",
          "text": [
            "[nltk_data] Downloading package stopwords to /root/nltk_data...\n",
            "[nltk_data]   Package stopwords is already up-to-date!\n"
          ],
          "name": "stdout"
        }
      ]
    },
    {
      "cell_type": "code",
      "metadata": {
        "id": "2CxEucYWP_km",
        "colab_type": "code",
        "colab": {}
      },
      "source": [
        "def pre_process(tweet):\n",
        "  tweet = tweet.strip().lower()\n",
        "  tweet = re.sub(r'http[s]?://\\S+','',tweet)  #/https?\\:(\\\\\\\\|\\/\\/)(www.)?/,'' re.sub('http[s]?://\\S+', '', text)\n",
        "  tweet = re.sub(r'(\\w)\\1+', r'\\1',tweet)\n",
        "  tweet = re.sub(r'[!.?]+','',tweet)\n",
        "  p_tweet = []\n",
        "  for t in tweet.split():\n",
        "    if t not in string.punctuation and t not in stop_words:\n",
        "      p_tweet.append(ps.stem(t))\n",
        "  return p_tweet\n"
      ],
      "execution_count": 64,
      "outputs": []
    },
    {
      "cell_type": "code",
      "metadata": {
        "id": "y-dpYzSzUUi2",
        "colab_type": "code",
        "colab": {
          "base_uri": "https://localhost:8080/",
          "height": 35
        },
        "outputId": "cb69c7ec-22c6-47cd-9b5f-ef74ee8695b2"
      },
      "source": [
        "#test\n",
        "tweet = 'Sooooo higghhhh'\n",
        "print(pre_process(tweet))"
      ],
      "execution_count": 65,
      "outputs": [
        {
          "output_type": "stream",
          "text": [
            "['high']\n"
          ],
          "name": "stdout"
        }
      ]
    },
    {
      "cell_type": "code",
      "metadata": {
        "id": "vp3VU44XVSCW",
        "colab_type": "code",
        "colab": {
          "base_uri": "https://localhost:8080/",
          "height": 35
        },
        "outputId": "6bdd9ac6-f353-4979-8144-5056c6a84a0d"
      },
      "source": [
        "vocab = {'__PAD__':0,'__UNK__':1}\n",
        "for row in train_df.text.to_list():\n",
        "  process = pre_process(str(row))\n",
        "  for word in process:\n",
        "    if word not in vocab:\n",
        "      vocab[word] = len(vocab)\n",
        "\n",
        "print(len(vocab))"
      ],
      "execution_count": 66,
      "outputs": [
        {
          "output_type": "stream",
          "text": [
            "27461\n"
          ],
          "name": "stdout"
        }
      ]
    },
    {
      "cell_type": "code",
      "metadata": {
        "id": "FJTVROzkaxax",
        "colab_type": "code",
        "colab": {
          "base_uri": "https://localhost:8080/",
          "height": 35
        },
        "outputId": "7764d87b-cda1-4572-d30f-adb5cef84a6c"
      },
      "source": [
        "#test\n",
        "print(vocab['like'])"
      ],
      "execution_count": 67,
      "outputs": [
        {
          "output_type": "stream",
          "text": [
            "58\n"
          ],
          "name": "stdout"
        }
      ]
    },
    {
      "cell_type": "code",
      "metadata": {
        "id": "jsL9AUbbdcMe",
        "colab_type": "code",
        "colab": {}
      },
      "source": [
        "def text_to_tensor(tweet, unk):\n",
        "  process = pre_process(str(tweet))\n",
        "  tensor = []\n",
        "  for word in process:\n",
        "    if word in vocab:\n",
        "      tensor.append(vocab.get(word,unk))\n",
        "  return tensor"
      ],
      "execution_count": 68,
      "outputs": []
    },
    {
      "cell_type": "code",
      "metadata": {
        "id": "Q4mkf5Sokxhx",
        "colab_type": "code",
        "colab": {
          "base_uri": "https://localhost:8080/",
          "height": 35
        },
        "outputId": "b72e2b19-f0da-476b-eab8-00d10c85ddd2"
      },
      "source": [
        "#test\n",
        "tweet = 'its at 3 am, im very tired but i can`t sleep'\n",
        "print(text_to_tensor(tweet,vocab['__UNK__']))"
      ],
      "execution_count": 69,
      "outputs": [
        {
          "output_type": "stream",
          "text": [
            "[591, 2283, 153, 421, 119, 169]\n"
          ],
          "name": "stdout"
        }
      ]
    },
    {
      "cell_type": "code",
      "metadata": {
        "id": "8mMwmDgyqag4",
        "colab_type": "code",
        "colab": {}
      },
      "source": [
        "!pip install -q -U trax"
      ],
      "execution_count": 70,
      "outputs": []
    },
    {
      "cell_type": "code",
      "metadata": {
        "id": "-vhUXHleb_8j",
        "colab_type": "code",
        "colab": {}
      },
      "source": [
        "import random\n",
        "import trax\n",
        "import trax.fastmath.numpy as fastnp\n",
        "from trax import layers as tl\n",
        "random.seed(32)\n",
        "#trax.supervised.trainer_lib.init_random_number_generators(32)"
      ],
      "execution_count": 71,
      "outputs": []
    },
    {
      "cell_type": "code",
      "metadata": {
        "id": "n0IXG3yha1iK",
        "colab_type": "code",
        "colab": {}
      },
      "source": [
        "def datagenerator(data,y,batch_size,vocabdict,UNK = \"__UNK__\",shuffle = True):\n",
        "  index = 0\n",
        "  len_index_lines = len(data)\n",
        "  index_lines = list(range(len_index_lines))\n",
        "  if shuffle:\n",
        "    random.shuffle(index_lines)\n",
        "  \n",
        "  X = []\n",
        "  Y = []\n",
        "  while True:\n",
        "    if index >= len_index_lines:\n",
        "      index = 0\n",
        "    if shuffle:\n",
        "      random.shuffle(index_lines)\n",
        "    x = data[index_lines[index]]\n",
        "    X.append(text_to_tensor(x,vocabdict[UNK]))\n",
        "    y_ = y[index_lines[index]]\n",
        "    Y.append(y_)\n",
        "    index += 1\n",
        "    \n",
        "    if batch_size == len(X):\n",
        "      max_len = 0 \n",
        "      for i in range(batch_size):\n",
        "        if max_len < len(X[i]):\n",
        "          max_len = len(X[i])\n",
        "      pad_X = []\n",
        "      for i in range(batch_size):\n",
        "        padded = X[i] + [0]*(max_len-len(X[i]))\n",
        "        pad_X.append(padded)\n",
        "      \n",
        "      final_X = fastnp.array(pad_X)\n",
        "      final_y = fastnp.array(Y)\n",
        "      final_mask = fastnp.ones_like(final_y)\n",
        "\n",
        "      yield final_X,final_y,final_mask\n",
        "      X = []\n",
        "      Y = []"
      ],
      "execution_count": 72,
      "outputs": []
    },
    {
      "cell_type": "code",
      "metadata": {
        "id": "J_0tkwkUaDBm",
        "colab_type": "code",
        "colab": {
          "base_uri": "https://localhost:8080/",
          "height": 92
        },
        "outputId": "49f3934b-1b49-49cd-d531-4b95ed39135c"
      },
      "source": [
        "# divide the data\n",
        "limit = int(len(train_df)*0.8)\n",
        "print(int(len(train_df)*0.8))\n",
        "train_x = list(train_df.text[:limit])\n",
        "train_y = list(train_df.senti_cat[:limit])\n",
        "#train_y = list(tl.one_hot(fastnp.array(temp_y),3))\n",
        "eval_x = list(train_df.text[limit:])\n",
        "eval_y = list(train_df.senti_cat[limit:])\n",
        "#eval_y = list(tl.one_hot(fastnp.array(eval_temp_y),3))\n",
        "print(train_x[0:5])\n",
        "print(train_y[0:5])"
      ],
      "execution_count": 73,
      "outputs": [
        {
          "output_type": "stream",
          "text": [
            "21984\n",
            "[' I`d have responded, if I were going', ' Sooo SAD I will miss you here in San Diego!!!', 'my boss is bullying me...', ' what interview! leave me alone', ' Sons of ****, why couldn`t they put them on the releases we already bought']\n",
            "[0, 2, 2, 2, 2]\n"
          ],
          "name": "stdout"
        }
      ]
    },
    {
      "cell_type": "code",
      "metadata": {
        "id": "MggfOnKmco9H",
        "colab_type": "code",
        "colab": {
          "base_uri": "https://localhost:8080/",
          "height": 126
        },
        "outputId": "8c2b7c0f-8588-4ada-84f5-65319a6e1d3a"
      },
      "source": [
        "#test\n",
        "x, y,z = next(datagenerator(eval_x,eval_y,4,vocab))\n",
        "print(x)\n",
        "print(y)\n",
        "print(z)"
      ],
      "execution_count": 74,
      "outputs": [
        {
          "output_type": "stream",
          "text": [
            "[[ 2322   645  2181   428   364   658    13  6875   519   306]\n",
            " [  274   733    54   472  4579  2856 24779  3043     0     0]\n",
            " [ 2778   169   324   269  1324     0     0     0     0     0]\n",
            " [  571 25470  7511  2299  1490  1321     0     0     0     0]]\n",
            "[1 0 2 0]\n",
            "[1 1 1 1]\n"
          ],
          "name": "stdout"
        }
      ]
    },
    {
      "cell_type": "code",
      "metadata": {
        "id": "TJ_Rpjq7Z9NE",
        "colab_type": "code",
        "colab": {}
      },
      "source": [
        "import itertools\n",
        "batch_size = 16\n",
        "\n",
        "train_generator = itertools.cycle(datagenerator(train_x,train_y,batch_size,vocab))\n",
        "\n",
        "eval_generator = itertools.cycle(datagenerator(eval_x,eval_y,batch_size,vocab))\n",
        "\n"
      ],
      "execution_count": 75,
      "outputs": []
    },
    {
      "cell_type": "code",
      "metadata": {
        "id": "gVhlvn7Xpflh",
        "colab_type": "code",
        "colab": {}
      },
      "source": [
        "def tweetModel(vocab_size=27461,d_model=50,n_layers=3):\n",
        "  model = tl.Serial(tl.Embedding(vocab_size,d_model),tl.Mean(axis=1),tl.Dense(n_units = n_layers),tl.LogSoftmax())\n",
        "  return model"
      ],
      "execution_count": 76,
      "outputs": []
    },
    {
      "cell_type": "code",
      "metadata": {
        "id": "lXbM3LvNFic4",
        "colab_type": "code",
        "colab": {
          "base_uri": "https://localhost:8080/",
          "height": 126
        },
        "outputId": "8c4de25e-bb5b-4bab-8853-a4022299c9fc"
      },
      "source": [
        "display(tweetModel())"
      ],
      "execution_count": 77,
      "outputs": [
        {
          "output_type": "display_data",
          "data": {
            "text/plain": [
              "Serial[\n",
              "  Embedding_27461_50\n",
              "  Mean\n",
              "  Dense_3\n",
              "  LogSoftmax\n",
              "]"
            ]
          },
          "metadata": {
            "tags": []
          }
        }
      ]
    },
    {
      "cell_type": "code",
      "metadata": {
        "id": "a-W6s26lWdxQ",
        "colab_type": "code",
        "colab": {}
      },
      "source": [
        "from trax.supervised import training\n",
        "\n",
        "def train_model(model,train_generator,eval_generator,n_steps = 1,outputdir = '/model'):\n",
        "  train_task = training.TrainTask(train_generator,loss_layer = tl.CrossEntropyLoss(), optimizer = trax.optimizers.Adam(0.01),n_steps_per_checkpoint=100)\n",
        "\n",
        "  eval_task = training.EvalTask(eval_generator,metrics = [tl.CrossEntropyLoss(),tl.Accuracy()],n_eval_batches=10)\n",
        "\n",
        "  train_loop = training.Loop(model,train_task,eval_tasks=[eval_task],output_dir=outputdir)\n",
        "  train_loop.run(n_steps)\n",
        "  return train_loop"
      ],
      "execution_count": 78,
      "outputs": []
    },
    {
      "cell_type": "code",
      "metadata": {
        "id": "rrw4oT7jfc-N",
        "colab_type": "code",
        "colab": {}
      },
      "source": [
        "train_len = int(len(train_df)*0.8)\n",
        "n_steps = train_len/batch_size\n",
        "train_loop = train_model(tweetModel(),train_generator,eval_generator,13740)  # 10 * n_steps"
      ],
      "execution_count": null,
      "outputs": []
    },
    {
      "cell_type": "code",
      "metadata": {
        "id": "K5k0oH8QOYrP",
        "colab_type": "code",
        "colab": {}
      },
      "source": [
        "model = tweetModel()\n",
        "model.init_from_file('/model/model.pkl.gz')\n",
        "#model.init_from_file('model.pkl.gz')"
      ],
      "execution_count": 80,
      "outputs": []
    },
    {
      "cell_type": "code",
      "metadata": {
        "id": "ngEGuhhJgADR",
        "colab_type": "code",
        "colab": {}
      },
      "source": [
        "test_x = list(test_df.text)\n",
        "test_y = list(test_df.senti_cat)"
      ],
      "execution_count": 86,
      "outputs": []
    },
    {
      "cell_type": "code",
      "metadata": {
        "id": "jmEHtKyfHN0Y",
        "colab_type": "code",
        "colab": {}
      },
      "source": [
        "def compute_accuracy(test_generator,model):\n",
        "  test_x,label,mask = test_generator\n",
        "  ypred = model(test_x)\n",
        "  y_pred = np.argmax(ypred,axis = -1)\n",
        "  batchac = np.sum(y_pred == label)\n",
        "  total = len(label) \n",
        "  return batchac/total"
      ],
      "execution_count": 87,
      "outputs": []
    },
    {
      "cell_type": "code",
      "metadata": {
        "id": "Ci1LziZAJY8A",
        "colab_type": "code",
        "colab": {
          "base_uri": "https://localhost:8080/",
          "height": 54
        },
        "outputId": "c757982b-4233-4f45-cbe6-ef8e83b82b51"
      },
      "source": [
        "test_gen = next(datagenerator(test_x,test_y,len(test_y),vocab,shuffle=False))\n",
        "acc = compute_accuracy(test_gen,model)\n",
        "print(acc)"
      ],
      "execution_count": 92,
      "outputs": [
        {
          "output_type": "stream",
          "text": [
            "3534\n",
            "0.60780984\n"
          ],
          "name": "stdout"
        }
      ]
    },
    {
      "cell_type": "code",
      "metadata": {
        "id": "jpiIuG86JmpY",
        "colab_type": "code",
        "colab": {}
      },
      "source": [
        "# prediction\n",
        "sent = {0:'neutral',1:'positive',2:'negative'}\n",
        "def predict(test_gen,model):\n",
        "  test_x,label,mask = test_generator\n",
        "  ypred = model(test_x)\n",
        "  y_pred = np.argmax(ypred,axis = -1)\n",
        "  print(y_pred)\n",
        "  print(\"Predicted   Actual\")\n",
        "  for pred,truth in zip(list(y_pred),list(label)):\n",
        "    print(sent[pred],\" \",sent[truth])\n",
        "  \n"
      ],
      "execution_count": 89,
      "outputs": []
    },
    {
      "cell_type": "code",
      "metadata": {
        "id": "aKj2aAfUM083",
        "colab_type": "code",
        "colab": {
          "base_uri": "https://localhost:8080/",
          "height": 126
        },
        "outputId": "fb4749e0-1cfc-4a84-e176-1285100047d1"
      },
      "source": [
        "test_gen = next(datagenerator(test_x,test_y,4,vocab,shuffle=False))\n",
        "predict(test_gen,model)"
      ],
      "execution_count": 94,
      "outputs": [
        {
          "output_type": "stream",
          "text": [
            "[0 1 2 1]\n",
            "Predicted   Actual\n",
            "neutral   neutral\n",
            "positive   positive\n",
            "negative   negative\n",
            "positive   positive\n"
          ],
          "name": "stdout"
        }
      ]
    },
    {
      "cell_type": "code",
      "metadata": {
        "id": "PqI2SEFwM8NJ",
        "colab_type": "code",
        "colab": {
          "base_uri": "https://localhost:8080/",
          "height": 35
        },
        "outputId": "3b6c0458-a3cf-418c-9246-13415c2d36b1"
      },
      "source": [
        "text  = \"My heart goes out to the Malaysian people. This is such a tragedy. Words can't express how sad it is. I wish we could just have peace. #MH17\"\n",
        "inputs = np.array(text_to_tensor(x,vocab['__UNK__']))\n",
        "inputs = inputs[None,:]\n",
        "pred = model(inputs)\n",
        "pred_sent = np.argmax(pred,axis=-1)\n",
        "print(sent[pred_sent[0]])"
      ],
      "execution_count": 105,
      "outputs": [
        {
          "output_type": "stream",
          "text": [
            "negative\n"
          ],
          "name": "stdout"
        }
      ]
    },
    {
      "cell_type": "code",
      "metadata": {
        "id": "IbdyDRTvR5Ui",
        "colab_type": "code",
        "colab": {}
      },
      "source": [
        ""
      ],
      "execution_count": null,
      "outputs": []
    }
  ]
}